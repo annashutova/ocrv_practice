{
 "cells": [
  {
   "cell_type": "code",
   "execution_count": null,
   "metadata": {
    "id": "KFzFyQ0dljX1",
    "colab": {
     "base_uri": "https://localhost:8080/"
    },
    "executionInfo": {
     "status": "ok",
     "timestamp": 1716558770381,
     "user_tz": -180,
     "elapsed": 22781,
     "user": {
      "displayName": "Anya Shutova",
      "userId": "16449968331048301956"
     }
    },
    "outputId": "a60bbc21-010d-43b1-c626-0b69a893f09e"
   },
   "outputs": [],
   "source": [
    "#@title Mount your Google Drive\n",
    "from google.colab import drive\n",
    "drive.mount('/content/drive')"
   ]
  },
  {
   "cell_type": "code",
   "execution_count": null,
   "metadata": {
    "colab": {
     "base_uri": "https://localhost:8080/"
    },
    "collapsed": true,
    "id": "drlMAHWY-jGy",
    "outputId": "503151cc-26f5-48d7-eca3-2ace14764643",
    "executionInfo": {
     "status": "ok",
     "timestamp": 1716558910739,
     "user_tz": -180,
     "elapsed": 93551,
     "user": {
      "displayName": "Anya Shutova",
      "userId": "16449968331048301956"
     }
    }
   },
   "outputs": [],
   "source": [
    "#@title Setting up\n",
    "# Install packages\n",
    "!pip install git+https://github.com/openai/whisper.git\n",
    "\n",
    "\n",
    "import os\n",
    "\n",
    "# Add folders\n",
    "checkContentFolder = os.path.exists(\"drive/MyDrive/audio_segments\")\n",
    "checkDownLoadFolder = os.path.exists(\"drive/MyDrive/text_segments\")\n",
    "if not checkContentFolder:\n",
    "  os.mkdir(\"drive/MyDrive/audio_segments\")\n",
    "if not checkDownLoadFolder:\n",
    "  os.mkdir(\"drive/MyDrive/text_segments\")"
   ]
  },
  {
   "cell_type": "markdown",
   "source": [
    "#Add files to Google Drive\n",
    "Add mp3 files to audio_segments folder in you Google Drive."
   ],
   "metadata": {
    "id": "kOdPuj3L4d9g"
   }
  },
  {
   "cell_type": "code",
   "execution_count": null,
   "outputs": [],
   "source": [
    "#@title Transcription with whisper model\n",
    "import whisper\n",
    "import os\n",
    "\n",
    "\n",
    "lang = \"ru\"\n",
    "model = whisper.load_model(\"large\")\n",
    "\n",
    "\n",
    "for filename in os.listdir(\"/content/drive/MyDrive/audio_segments\"):\n",
    "    if filename.endswith(\".wav\"):\n",
    "\n",
    "      result = model.transcribe(f'/content/drive/MyDrive/audio_segments/{filename}', language=lang)\n",
    "\n",
    "      output_txt_file, _ = os.path.splitext(filename)\n",
    "      # Write into a text file\n",
    "      with open(f\"/content/drive/MyDrive/text_segments/{output_txt_file}.txt\", \"w\") as f:\n",
    "        print(f\"▼ Transcription to {output_txt_file}\\n\")\n",
    "        f.write(result['text'])"
   ],
   "metadata": {
    "collapsed": false
   }
  },
  {
   "cell_type": "markdown",
   "source": [
    "#Download files from Google Drive"
   ],
   "metadata": {
    "id": "4eDTHqkcBOwU"
   }
  }
 ],
 "metadata": {
  "accelerator": "GPU",
  "colab": {
   "gpuType": "T4",
   "provenance": [],
   "authorship_tag": "ABX9TyOgN4/UiB4ZFicG32JTVjCU"
  },
  "kernelspec": {
   "display_name": "Python 3",
   "name": "python3"
  },
  "language_info": {
   "name": "python"
  }
 },
 "nbformat": 4,
 "nbformat_minor": 0
}
